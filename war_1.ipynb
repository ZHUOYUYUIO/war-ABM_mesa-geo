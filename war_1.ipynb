{
 "cells": [
  {
   "cell_type": "markdown",
   "metadata": {},
   "source": [
    "# 战争传播模型：\n",
    "描述空间依赖与空间异质性的简易ABM模型\n",
    "- 空间依赖性：指的是一个地区的周边发生内战，这个地区更容易发生内战\n",
    "- 空间异质性：依据现有研究，我们把空间异质性定义为距离首都的远近。距离首都越近更容易发生战争，国家的上层发动战争、中央政府所在地往往在首都"
   ]
  },
  {
   "cell_type": "markdown",
   "metadata": {},
   "source": [
    "## 导入包\n",
    "导入mesa包、mesa-geo包"
   ]
  },
  {
   "cell_type": "code",
   "execution_count": 9,
   "metadata": {},
   "outputs": [],
   "source": [
    "import mesa\n",
    "import mesa_geo as mg\n",
    "import mesa_geo.visualization as mgv"
   ]
  },
  {
   "cell_type": "markdown",
   "metadata": {},
   "source": [
    "## 创建基于地区的agent"
   ]
  },
  {
   "cell_type": "code",
   "execution_count": 10,
   "metadata": {},
   "outputs": [],
   "source": [
    "class regionAgent(mg.GeoAgent):\n",
    "    #问题：是把阈值放进attribute还是把与agent相关的加进去\n",
    "    #都要放进去\n",
    "    #这里我想放地区的和平或战争状态、战争感染率、战争恢复率、首都的位置\n",
    "    def __init__(self, unique_id, model, geometry, crs,agent_type =\"no_war\",war_infection_risk=0.1 ,war_recovery_rate=0.2):\n",
    "        super().__init__(unique_id, model, geometry, crs)\n",
    "        self.atype= agent_type\n",
    "        self.war_infection_risk=war_infection_risk\n",
    "        self.war_revovery_rate=war_recovery_rate\n",
    "        self.in_war_step=0\n",
    "\n",
    "    def __repr__(self):\n",
    "        return \"region\" + str(self.unique_id)\n",
    "    \n",
    "    #如果距离未发生战争的agent固定距离内有发生战争的agent，也有可能直接发生战争（取决于阈值设定）\n",
    "    #距离首都近的agent更容易发生战争（这里可以设定一个权重）、更贫穷更容易发生战争\n",
    "    def war_spread(self):\n",
    "        if self.atype == \"no_war\":\n",
    "            neighbors= self.model.space.get_neighbors_within_distance(\n",
    "                self,self.model.exposure_distance\n",
    "            )\n",
    "        #如果邻居里有一个以上发生战争，我该怎么表示？\n",
    "        #遍历所有的邻居，然后再循环中赋予self.atype的值\n",
    "            for neighnor in neighbors:\n",
    "            #我这里想用这个函数distance(self, agent_a, agent_b)或者agent_a.geometry.distance(agent_b.geometry)，来表达agent距离首都的距离\n",
    "            #现在的问题是：首都agent怎么找，根据id找吗？\n",
    "                A_C_distance=self.model.space.distance(agent_a=self, agent_b=self.model.capitalAgent)\n",
    "                if (neighnor.atype == \"in_war\" \n",
    "                    and A_C_distance*0.001+self.random.random() < self.model.threshold_war_infection\n",
    "                    ):\n",
    "                    self.atype = \"in_war\"\n",
    "                    self.in_war_step=0\n",
    "                    break\n",
    "        \n",
    "        #设置已经发生内战的区域的step\n",
    "        elif self.atype==\"in_war\":\n",
    "            if self.in_war_step<3:\n",
    "                if self.random.random() < self.war_revovery_rate:\n",
    "                    self.atype = \"no_war\"\n",
    "                    self.in_war_step=self.in_war_step+1\n",
    "            else:\n",
    "                self.in_war_step=0\n",
    "    \n",
    "    def step(self):\n",
    "        self.war_spread()\n",
    "        self.model.counts[self.atype] += 1\n",
    "   "
   ]
  },
  {
   "cell_type": "markdown",
   "metadata": {},
   "source": [
    "## 基于mesa包创建模型，联系起agent、空间与时间序列"
   ]
  },
  {
   "cell_type": "code",
   "execution_count": 11,
   "metadata": {},
   "outputs": [],
   "source": [
    "def get_in_war_count(model):\n",
    "    return model.counts[\"in_war\"]\n",
    "\n",
    "def get_no_war_count(model):\n",
    "    return model.counts[\"no_war\"]"
   ]
  },
  {
   "cell_type": "code",
   "execution_count": 12,
   "metadata": {},
   "outputs": [],
   "source": [
    "class war_model(mesa.Model):\n",
    "    geojson_regions = \"D:\\编程的文档\\python\\mesa-geo库的学习\\TorontoNeighbourhoods.geojson\"\n",
    "    unique_id = \"HOODNUM\"\n",
    "    \n",
    "    def __init__(self,int_war_rate=0.2,war_revovery_rate=0.6,threshold_war_infection=1.5,exposure_distance=1000):\n",
    "        super().__init__()\n",
    "        \n",
    "        self.int_war_rate=int_war_rate\n",
    "        self.war_recovery_rate=war_revovery_rate\n",
    "        self.threshold_war_infection=threshold_war_infection\n",
    "        self.exposure_distance=exposure_distance\n",
    "\n",
    "\n",
    "        self.schedule=mesa.time.RandomActivation(self)\n",
    "        self.space=mg.GeoSpace(warn_crs_conversion=False)\n",
    "        #首都的id\n",
    "        self.capital_id=105\n",
    "\n",
    "\n",
    "        self.counts=None\n",
    "        self.reset_counts()\n",
    "\n",
    "        self.datacollector = mesa.DataCollector(\n",
    "            {\n",
    "                \"no_war\": get_no_war_count,\n",
    "                \"in_war\": get_in_war_count\n",
    "            }\n",
    "        ) \n",
    "\n",
    "\n",
    "        #如何把参数加到地区agent里\n",
    "        ac=mg.AgentCreator(\n",
    "            regionAgent,\n",
    "            model=self)  \n",
    "        region_agents = ac.from_file(self.geojson_regions,unique_id=self.unique_id)\n",
    "        \n",
    "        for j in range(len(region_agents)):\n",
    "            if self.random.random() < self.int_war_rate:\n",
    "             #if self.random.random() < 0.2:\n",
    "                region_agents[j].atype=\"in_war\"\n",
    "\n",
    "        self.space.add_agents(region_agents)\n",
    "\n",
    "        #找到capital agent首都\n",
    "        self.capitalAgent = next((agent for agent in region_agents if agent.unique_id == self.capital_id), None)\n",
    "        #capital_agent=[region_agents for agent in region_agents if agent.unique_id == self.capital_id]\n",
    "        #self.capitalAgent= capital_agent[0]    \n",
    "\n",
    "        for agent in region_agents:\n",
    "            self.schedule.add(agent)\n",
    "\n",
    "\n",
    "    def reset_counts(self):\n",
    "        self.counts = {\n",
    "            \"in_war\": 0,\n",
    "            \"no_war\":0\n",
    "            }\n",
    "        \n",
    "    def step(self):\n",
    "        self.reset_counts()\n",
    "        self.schedule.step()\n",
    "        self.datacollector.collect(self) \n",
    "\n",
    "    \n",
    "\n",
    "\n",
    "\n",
    "        \n",
    "\n",
    "\n"
   ]
  },
  {
   "cell_type": "markdown",
   "metadata": {},
   "source": [
    "## 运行战争spread模型"
   ]
  },
  {
   "cell_type": "code",
   "execution_count": 13,
   "metadata": {},
   "outputs": [],
   "source": [
    "model = war_model()\n",
    "for i in range(10): \n",
    "    model.step()"
   ]
  },
  {
   "cell_type": "markdown",
   "metadata": {},
   "source": [
    "## 战争spread模型可视化"
   ]
  },
  {
   "cell_type": "code",
   "execution_count": 14,
   "metadata": {},
   "outputs": [
    {
     "data": {
      "text/html": [
       "<div>\n",
       "<style scoped>\n",
       "    .dataframe tbody tr th:only-of-type {\n",
       "        vertical-align: middle;\n",
       "    }\n",
       "\n",
       "    .dataframe tbody tr th {\n",
       "        vertical-align: top;\n",
       "    }\n",
       "\n",
       "    .dataframe thead th {\n",
       "        text-align: right;\n",
       "    }\n",
       "</style>\n",
       "<table border=\"1\" class=\"dataframe\">\n",
       "  <thead>\n",
       "    <tr style=\"text-align: right;\">\n",
       "      <th></th>\n",
       "      <th>no_war</th>\n",
       "      <th>in_war</th>\n",
       "    </tr>\n",
       "  </thead>\n",
       "  <tbody>\n",
       "    <tr>\n",
       "      <th>0</th>\n",
       "      <td>1</td>\n",
       "      <td>4</td>\n",
       "    </tr>\n",
       "    <tr>\n",
       "      <th>1</th>\n",
       "      <td>1</td>\n",
       "      <td>4</td>\n",
       "    </tr>\n",
       "    <tr>\n",
       "      <th>2</th>\n",
       "      <td>3</td>\n",
       "      <td>2</td>\n",
       "    </tr>\n",
       "    <tr>\n",
       "      <th>3</th>\n",
       "      <td>3</td>\n",
       "      <td>2</td>\n",
       "    </tr>\n",
       "    <tr>\n",
       "      <th>4</th>\n",
       "      <td>2</td>\n",
       "      <td>3</td>\n",
       "    </tr>\n",
       "    <tr>\n",
       "      <th>5</th>\n",
       "      <td>2</td>\n",
       "      <td>3</td>\n",
       "    </tr>\n",
       "    <tr>\n",
       "      <th>6</th>\n",
       "      <td>1</td>\n",
       "      <td>4</td>\n",
       "    </tr>\n",
       "    <tr>\n",
       "      <th>7</th>\n",
       "      <td>1</td>\n",
       "      <td>4</td>\n",
       "    </tr>\n",
       "    <tr>\n",
       "      <th>8</th>\n",
       "      <td>3</td>\n",
       "      <td>2</td>\n",
       "    </tr>\n",
       "    <tr>\n",
       "      <th>9</th>\n",
       "      <td>2</td>\n",
       "      <td>3</td>\n",
       "    </tr>\n",
       "  </tbody>\n",
       "</table>\n",
       "</div>"
      ],
      "text/plain": [
       "   no_war  in_war\n",
       "0       1       4\n",
       "1       1       4\n",
       "2       3       2\n",
       "3       3       2\n",
       "4       2       3\n",
       "5       2       3\n",
       "6       1       4\n",
       "7       1       4\n",
       "8       3       2\n",
       "9       2       3"
      ]
     },
     "execution_count": 14,
     "metadata": {},
     "output_type": "execute_result"
    }
   ],
   "source": [
    "model.datacollector.get_model_vars_dataframe()"
   ]
  },
  {
   "cell_type": "code",
   "execution_count": 15,
   "metadata": {},
   "outputs": [],
   "source": [
    "def war_model_draw(agent):\n",
    "    \"\"\"\n",
    "    Portrayal Method for canvas\n",
    "    \"\"\"\n",
    "\n",
    "    portrayal = {}       \n",
    "    if isinstance(agent, regionAgent):\n",
    "        if agent.atype == \"in_war\":\n",
    "            portrayal[\"color\"] = \"Red\"\n",
    "        else: \n",
    "            portrayal[\"color\"] = \"green\"\n",
    "    \n",
    "    return portrayal\n",
    "\n",
    "\n",
    "model_params = {\n",
    "    \"int_war_rate\": {\n",
    "        \"type\": \"SliderFloat\",\n",
    "        \"value\": 0.2,\n",
    "        \"label\": \"Population Size\",\n",
    "        \"min\": 0,\n",
    "        \"max\": 0.6, \n",
    "        \"step\": 0.05,\n",
    "    },\n",
    "    \"threshold_war_infection\": {\n",
    "        \"type\": \"SliderFloat\",\n",
    "        \"value\": 1.5,\n",
    "        \"label\": \"Population Size\",\n",
    "        \"min\": 1.2,\n",
    "        \"max\": 2, \n",
    "        \"step\": 0.1,\n",
    "    },\n",
    "    \"exposure_distance\": {\n",
    "        \"type\": \"SliderInt\",\n",
    "        \"value\": 1000,\n",
    "        \"label\": \"Population Size\",\n",
    "        \"min\": 500,\n",
    "        \"max\": 2000, \n",
    "        \"step\": 100,\n",
    "    },\n",
    "    \"war_revovery_rate\": {\n",
    "      \"type\": \"SliderFloat\",\n",
    "      \"value\": 0.6,\n",
    "        \"label\": \"Maximum Number of Steps to Recover\",\n",
    "        \"min\": 0.1,\n",
    "        \"max\": 1, \n",
    "        \"step\": 0.1,   \n",
    "     }}"
   ]
  },
  {
   "cell_type": "code",
   "execution_count": 16,
   "metadata": {},
   "outputs": [
    {
     "data": {
      "application/vnd.jupyter.widget-view+json": {
       "model_id": "0a569ceb1fed48a8a0bce41489d9362f",
       "version_major": 2,
       "version_minor": 0
      },
      "text/html": [
       "Cannot show widget. You probably want to rerun the code cell above (<i>Click in the code cell, and press Shift+Enter <kbd>⇧</kbd>+<kbd>↩</kbd></i>)."
      ],
      "text/plain": [
       "Cannot show ipywidgets in text"
      ]
     },
     "metadata": {},
     "output_type": "display_data"
    }
   ],
   "source": [
    "page = mgv.GeoJupyterViz(\n",
    "    war_model,\n",
    "    model_params,\n",
    "    measures= [ [\"in_war\", \"no_war\"]],\n",
    "    name=\"war spread\",   #界面名\n",
    "    agent_portrayal=war_model_draw,  \n",
    "    zoom=12,\n",
    "    scroll_wheel_zoom=False\n",
    ")\n",
    "# This is required to render the visualization in the Jupyter notebook\n",
    "page"
   ]
  },
  {
   "cell_type": "markdown",
   "metadata": {},
   "source": [
    "## reference"
   ]
  },
  {
   "cell_type": "markdown",
   "metadata": {},
   "source": [
    "参考文献：\n",
    "陈冲，胡竞天；空间依赖与武装冲突预测"
   ]
  }
 ],
 "metadata": {
  "kernelspec": {
   "display_name": "CSSforthinking",
   "language": "python",
   "name": "python3"
  },
  "language_info": {
   "codemirror_mode": {
    "name": "ipython",
    "version": 3
   },
   "file_extension": ".py",
   "mimetype": "text/x-python",
   "name": "python",
   "nbconvert_exporter": "python",
   "pygments_lexer": "ipython3",
   "version": "3.11.9"
  }
 },
 "nbformat": 4,
 "nbformat_minor": 2
}
